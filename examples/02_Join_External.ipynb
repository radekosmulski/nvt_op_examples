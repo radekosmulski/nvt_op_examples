{
 "cells": [
  {
   "cell_type": "markdown",
   "id": "819e1da4",
   "metadata": {},
   "source": [
    "# Join External\n",
    "\n",
    "Joining data is the bread and butter of data science work.\n",
    "\n",
    "A single pipeline can consist of a number of merges. We might start with data from various sources that need to be combined. Along the way we might perform various calculations and then need to join the results.\n",
    "\n",
    "More broadly, when it comes to joining data there are two things we care about:\n",
    "* it being able to run with available resources\n",
    "* speed of the operation\n",
    "\n",
    "`NVTabular` is very useful across both of these dimensions.\n",
    "\n",
    "It splits the data into \"chunks\" for processing -- there is no need for all of our data to fit on the GPU at once.\n",
    "\n",
    "It also runs on the GPU... which makes it considerably faster! And with the amount of merges normally performed, these time savings do add up.\n",
    "\n",
    "Joining is not necessarily as compute intensive operation, but nonetheless let us see speed up of what magnitude we can expect."
   ]
  },
  {
   "cell_type": "code",
   "execution_count": 1,
   "id": "c486be7a",
   "metadata": {},
   "outputs": [],
   "source": [
    "import cudf\n",
    "import nvtabular as nvt\n",
    "import numpy as np\n",
    "import pandas as pd"
   ]
  },
  {
   "cell_type": "code",
   "execution_count": 2,
   "id": "5ae58db5",
   "metadata": {},
   "outputs": [],
   "source": [
    "import string"
   ]
  },
  {
   "cell_type": "code",
   "execution_count": 3,
   "id": "61fec433",
   "metadata": {},
   "outputs": [],
   "source": [
    "base_data = pd.DataFrame(data={'id': np.random.randint(10, size=100_000_000)})\n",
    "to_merge = pd.DataFrame(data={'id': np.arange(10), 'rating': list(string.ascii_letters[:10])})"
   ]
  },
  {
   "cell_type": "code",
   "execution_count": 4,
   "id": "b4f50e91",
   "metadata": {},
   "outputs": [
    {
     "data": {
      "text/html": [
       "<div>\n",
       "<style scoped>\n",
       "    .dataframe tbody tr th:only-of-type {\n",
       "        vertical-align: middle;\n",
       "    }\n",
       "\n",
       "    .dataframe tbody tr th {\n",
       "        vertical-align: top;\n",
       "    }\n",
       "\n",
       "    .dataframe thead th {\n",
       "        text-align: right;\n",
       "    }\n",
       "</style>\n",
       "<table border=\"1\" class=\"dataframe\">\n",
       "  <thead>\n",
       "    <tr style=\"text-align: right;\">\n",
       "      <th></th>\n",
       "      <th>id</th>\n",
       "    </tr>\n",
       "  </thead>\n",
       "  <tbody>\n",
       "    <tr>\n",
       "      <th>0</th>\n",
       "      <td>5</td>\n",
       "    </tr>\n",
       "    <tr>\n",
       "      <th>1</th>\n",
       "      <td>4</td>\n",
       "    </tr>\n",
       "    <tr>\n",
       "      <th>2</th>\n",
       "      <td>7</td>\n",
       "    </tr>\n",
       "    <tr>\n",
       "      <th>3</th>\n",
       "      <td>1</td>\n",
       "    </tr>\n",
       "    <tr>\n",
       "      <th>4</th>\n",
       "      <td>3</td>\n",
       "    </tr>\n",
       "  </tbody>\n",
       "</table>\n",
       "</div>"
      ],
      "text/plain": [
       "   id\n",
       "0   5\n",
       "1   4\n",
       "2   7\n",
       "3   1\n",
       "4   3"
      ]
     },
     "execution_count": 4,
     "metadata": {},
     "output_type": "execute_result"
    }
   ],
   "source": [
    "base_data.head()"
   ]
  },
  {
   "cell_type": "code",
   "execution_count": 5,
   "id": "69d4ae03",
   "metadata": {},
   "outputs": [
    {
     "data": {
      "text/html": [
       "<div>\n",
       "<style scoped>\n",
       "    .dataframe tbody tr th:only-of-type {\n",
       "        vertical-align: middle;\n",
       "    }\n",
       "\n",
       "    .dataframe tbody tr th {\n",
       "        vertical-align: top;\n",
       "    }\n",
       "\n",
       "    .dataframe thead th {\n",
       "        text-align: right;\n",
       "    }\n",
       "</style>\n",
       "<table border=\"1\" class=\"dataframe\">\n",
       "  <thead>\n",
       "    <tr style=\"text-align: right;\">\n",
       "      <th></th>\n",
       "      <th>id</th>\n",
       "      <th>rating</th>\n",
       "    </tr>\n",
       "  </thead>\n",
       "  <tbody>\n",
       "    <tr>\n",
       "      <th>0</th>\n",
       "      <td>0</td>\n",
       "      <td>a</td>\n",
       "    </tr>\n",
       "    <tr>\n",
       "      <th>1</th>\n",
       "      <td>1</td>\n",
       "      <td>b</td>\n",
       "    </tr>\n",
       "    <tr>\n",
       "      <th>2</th>\n",
       "      <td>2</td>\n",
       "      <td>c</td>\n",
       "    </tr>\n",
       "    <tr>\n",
       "      <th>3</th>\n",
       "      <td>3</td>\n",
       "      <td>d</td>\n",
       "    </tr>\n",
       "    <tr>\n",
       "      <th>4</th>\n",
       "      <td>4</td>\n",
       "      <td>e</td>\n",
       "    </tr>\n",
       "  </tbody>\n",
       "</table>\n",
       "</div>"
      ],
      "text/plain": [
       "   id rating\n",
       "0   0      a\n",
       "1   1      b\n",
       "2   2      c\n",
       "3   3      d\n",
       "4   4      e"
      ]
     },
     "execution_count": 5,
     "metadata": {},
     "output_type": "execute_result"
    }
   ],
   "source": [
    "to_merge.head()"
   ]
  },
  {
   "cell_type": "code",
   "execution_count": 6,
   "id": "312c57ab",
   "metadata": {},
   "outputs": [
    {
     "name": "stdout",
     "output_type": "stream",
     "text": [
      "CPU times: user 3.79 s, sys: 10.4 s, total: 14.2 s\n",
      "Wall time: 14.2 s\n"
     ]
    }
   ],
   "source": [
    "%%time\n",
    "\n",
    "merged_pd = base_data.merge(to_merge)"
   ]
  },
  {
   "cell_type": "code",
   "execution_count": 7,
   "id": "81c3de83",
   "metadata": {},
   "outputs": [
    {
     "data": {
      "text/html": [
       "<div>\n",
       "<style scoped>\n",
       "    .dataframe tbody tr th:only-of-type {\n",
       "        vertical-align: middle;\n",
       "    }\n",
       "\n",
       "    .dataframe tbody tr th {\n",
       "        vertical-align: top;\n",
       "    }\n",
       "\n",
       "    .dataframe thead th {\n",
       "        text-align: right;\n",
       "    }\n",
       "</style>\n",
       "<table border=\"1\" class=\"dataframe\">\n",
       "  <thead>\n",
       "    <tr style=\"text-align: right;\">\n",
       "      <th></th>\n",
       "      <th>id</th>\n",
       "      <th>rating</th>\n",
       "    </tr>\n",
       "  </thead>\n",
       "  <tbody>\n",
       "    <tr>\n",
       "      <th>0</th>\n",
       "      <td>5</td>\n",
       "      <td>f</td>\n",
       "    </tr>\n",
       "    <tr>\n",
       "      <th>1</th>\n",
       "      <td>5</td>\n",
       "      <td>f</td>\n",
       "    </tr>\n",
       "    <tr>\n",
       "      <th>2</th>\n",
       "      <td>5</td>\n",
       "      <td>f</td>\n",
       "    </tr>\n",
       "    <tr>\n",
       "      <th>3</th>\n",
       "      <td>5</td>\n",
       "      <td>f</td>\n",
       "    </tr>\n",
       "    <tr>\n",
       "      <th>4</th>\n",
       "      <td>5</td>\n",
       "      <td>f</td>\n",
       "    </tr>\n",
       "  </tbody>\n",
       "</table>\n",
       "</div>"
      ],
      "text/plain": [
       "   id rating\n",
       "0   5      f\n",
       "1   5      f\n",
       "2   5      f\n",
       "3   5      f\n",
       "4   5      f"
      ]
     },
     "execution_count": 7,
     "metadata": {},
     "output_type": "execute_result"
    }
   ],
   "source": [
    "merged_pd.head()"
   ]
  },
  {
   "cell_type": "code",
   "execution_count": 8,
   "id": "5692811f",
   "metadata": {},
   "outputs": [],
   "source": [
    "nvt_dataset = nvt.Dataset(base_data)\n",
    "\n",
    "nvt_merged = ['id'] >> nvt.ops.JoinExternal(to_merge, 'id')\n",
    "\n",
    "workflow = nvt.Workflow(nvt_merged)"
   ]
  },
  {
   "cell_type": "code",
   "execution_count": 9,
   "id": "0f783e67",
   "metadata": {},
   "outputs": [
    {
     "name": "stdout",
     "output_type": "stream",
     "text": [
      "CPU times: user 301 ms, sys: 79 ms, total: 380 ms\n",
      "Wall time: 379 ms\n"
     ]
    }
   ],
   "source": [
    "%%time\n",
    "\n",
    "gdf = workflow.fit_transform(nvt_dataset).to_ddf().compute()"
   ]
  },
  {
   "cell_type": "code",
   "execution_count": 10,
   "id": "1691d72b",
   "metadata": {},
   "outputs": [
    {
     "data": {
      "text/html": [
       "<div>\n",
       "<style scoped>\n",
       "    .dataframe tbody tr th:only-of-type {\n",
       "        vertical-align: middle;\n",
       "    }\n",
       "\n",
       "    .dataframe tbody tr th {\n",
       "        vertical-align: top;\n",
       "    }\n",
       "\n",
       "    .dataframe thead th {\n",
       "        text-align: right;\n",
       "    }\n",
       "</style>\n",
       "<table border=\"1\" class=\"dataframe\">\n",
       "  <thead>\n",
       "    <tr style=\"text-align: right;\">\n",
       "      <th></th>\n",
       "      <th>id</th>\n",
       "      <th>rating</th>\n",
       "    </tr>\n",
       "  </thead>\n",
       "  <tbody>\n",
       "    <tr>\n",
       "      <th>0</th>\n",
       "      <td>5</td>\n",
       "      <td>f</td>\n",
       "    </tr>\n",
       "    <tr>\n",
       "      <th>1</th>\n",
       "      <td>4</td>\n",
       "      <td>e</td>\n",
       "    </tr>\n",
       "    <tr>\n",
       "      <th>2</th>\n",
       "      <td>7</td>\n",
       "      <td>h</td>\n",
       "    </tr>\n",
       "    <tr>\n",
       "      <th>3</th>\n",
       "      <td>1</td>\n",
       "      <td>b</td>\n",
       "    </tr>\n",
       "    <tr>\n",
       "      <th>4</th>\n",
       "      <td>3</td>\n",
       "      <td>d</td>\n",
       "    </tr>\n",
       "  </tbody>\n",
       "</table>\n",
       "</div>"
      ],
      "text/plain": [
       "   id rating\n",
       "0   5      f\n",
       "1   4      e\n",
       "2   7      h\n",
       "3   1      b\n",
       "4   3      d"
      ]
     },
     "execution_count": 10,
     "metadata": {},
     "output_type": "execute_result"
    }
   ],
   "source": [
    "gdf.head()"
   ]
  },
  {
   "cell_type": "markdown",
   "id": "eb100dbe",
   "metadata": {},
   "source": [
    "Even on this trivial example, where there is not much computation involved, an `nvtabular` join is `35x` faster!\n",
    "\n",
    "What does this mean for pipeline development?\n",
    "\n",
    "You can experiment much more rapidly.\n",
    "\n",
    "It makes sense to run on a sample of your data as you are working on piecing your pipeline together, but thanks to `nvtabular` you can run many larger experiments more quickly!\n",
    "\n",
    "The speedups carry throughout the entire lifecycle of working on a solution (including full scale training) and are likely to result in vastly improved outcomes.\n",
    "\n",
    "Without further ado, let's put our newly met nvtabular operator to practice! We will leverage it in a workflow where at the end we submit to a Kaggle competition!"
   ]
  },
  {
   "cell_type": "markdown",
   "id": "212e557f",
   "metadata": {},
   "source": [
    "# Submitting to Kaggle Outbrain competition using Join External"
   ]
  },
  {
   "cell_type": "markdown",
   "id": "c155a2f4",
   "metadata": {},
   "source": [
    "First of all, let's download and extract the `outbrain` Kaggle competition data to the `data` directory.\n",
    "\n",
    "You should have the following files:"
   ]
  },
  {
   "cell_type": "code",
   "execution_count": 11,
   "id": "9390379b",
   "metadata": {},
   "outputs": [
    {
     "name": "stdout",
     "output_type": "stream",
     "text": [
      "clicks_test.csv\t\t  documents_meta.csv\t promoted_content.csv\r\n",
      "clicks_train.csv\t  events.csv\t\t sample_submission.csv\r\n",
      "documents_categories.csv  page_views.csv\t submission.csv\r\n",
      "documents_entities.csv\t  page_views_sample.csv\r\n"
     ]
    }
   ],
   "source": [
    "!cd data && ls *.csv"
   ]
  },
  {
   "cell_type": "markdown",
   "id": "43a8fbc5",
   "metadata": {},
   "source": [
    "For this example, we will only use the `clicks_train.csv` and `clicks_test.csv` files. They are much smaller than the largest file in the repository, so you might want to consider downloading just these two files.\n",
    "\n",
    "As a side note, seems bulk downloading of competition files from Kaggle for the Outbrain competition [doesn't work at the moment](https://twitter.com/radekosmulski/status/1527929784222851072?s=20&t=AUTQcptQfryJ2SXQ-XsPgQ) so you might need to go via individual files anyhow.\n",
    "\n",
    "We will mirror the work done in this [Kaggle kernel](https://www.kaggle.com/code/xingobar/pandas-lb-0-63709). It is always a good idea to start with a baseline, which in the case of recommender systems is often some form of popularity ranking. This is what we will attempt doing here."
   ]
  },
  {
   "cell_type": "markdown",
   "id": "0dae6e42",
   "metadata": {},
   "source": [
    "We start by reading in the data."
   ]
  },
  {
   "cell_type": "code",
   "execution_count": 12,
   "id": "f33876fa",
   "metadata": {},
   "outputs": [
    {
     "name": "stdout",
     "output_type": "stream",
     "text": [
      "CPU times: user 503 ms, sys: 121 ms, total: 624 ms\n",
      "Wall time: 624 ms\n"
     ]
    }
   ],
   "source": [
    "%%time\n",
    "\n",
    "train = cudf.read_csv('data/clicks_train.csv', usecols=['ad_id','clicked'])\n",
    "test = cudf.read_csv('data/clicks_test.csv')"
   ]
  },
  {
   "cell_type": "markdown",
   "id": "52b36ea0",
   "metadata": {},
   "source": [
    "We will not personalize the recommendations in any way. We will not consider what user is likely to click what add.\n",
    "\n",
    "Instead, we will just look at the ads themselves. Which ads are relatively clicked most often?\n",
    "\n",
    "For each `ad_id`:\n",
    "* how many times was it served? (`count`)\n",
    "* how many times was it clicked? (`sum`)\n",
    "* and what is the ratio of clicks to number of times the ad was served? (`mean`)"
   ]
  },
  {
   "cell_type": "code",
   "execution_count": 13,
   "id": "0ecbc3de",
   "metadata": {},
   "outputs": [],
   "source": [
    "ad_likelihood = train.groupby('ad_id')['clicked'].agg(['count','sum','mean']).reset_index()"
   ]
  },
  {
   "cell_type": "code",
   "execution_count": 14,
   "id": "66a4741b",
   "metadata": {},
   "outputs": [
    {
     "data": {
      "text/html": [
       "<div>\n",
       "<style scoped>\n",
       "    .dataframe tbody tr th:only-of-type {\n",
       "        vertical-align: middle;\n",
       "    }\n",
       "\n",
       "    .dataframe tbody tr th {\n",
       "        vertical-align: top;\n",
       "    }\n",
       "\n",
       "    .dataframe thead th {\n",
       "        text-align: right;\n",
       "    }\n",
       "</style>\n",
       "<table border=\"1\" class=\"dataframe\">\n",
       "  <thead>\n",
       "    <tr style=\"text-align: right;\">\n",
       "      <th></th>\n",
       "      <th>ad_id</th>\n",
       "      <th>count</th>\n",
       "      <th>sum</th>\n",
       "      <th>mean</th>\n",
       "    </tr>\n",
       "  </thead>\n",
       "  <tbody>\n",
       "    <tr>\n",
       "      <th>0</th>\n",
       "      <td>247182</td>\n",
       "      <td>1</td>\n",
       "      <td>0</td>\n",
       "      <td>0.0</td>\n",
       "    </tr>\n",
       "    <tr>\n",
       "      <th>1</th>\n",
       "      <td>38499</td>\n",
       "      <td>1</td>\n",
       "      <td>0</td>\n",
       "      <td>0.0</td>\n",
       "    </tr>\n",
       "    <tr>\n",
       "      <th>2</th>\n",
       "      <td>338291</td>\n",
       "      <td>10</td>\n",
       "      <td>3</td>\n",
       "      <td>0.3</td>\n",
       "    </tr>\n",
       "    <tr>\n",
       "      <th>3</th>\n",
       "      <td>199061</td>\n",
       "      <td>6</td>\n",
       "      <td>0</td>\n",
       "      <td>0.0</td>\n",
       "    </tr>\n",
       "    <tr>\n",
       "      <th>4</th>\n",
       "      <td>38049</td>\n",
       "      <td>14</td>\n",
       "      <td>0</td>\n",
       "      <td>0.0</td>\n",
       "    </tr>\n",
       "  </tbody>\n",
       "</table>\n",
       "</div>"
      ],
      "text/plain": [
       "    ad_id  count  sum  mean\n",
       "0  247182      1    0   0.0\n",
       "1   38499      1    0   0.0\n",
       "2  338291     10    3   0.3\n",
       "3  199061      6    0   0.0\n",
       "4   38049     14    0   0.0"
      ]
     },
     "execution_count": 14,
     "metadata": {},
     "output_type": "execute_result"
    }
   ],
   "source": [
    "ad_likelihood.head()"
   ]
  },
  {
   "cell_type": "markdown",
   "id": "ff1e97c5",
   "metadata": {},
   "source": [
    "Globally, how often do ads get clicked on?"
   ]
  },
  {
   "cell_type": "code",
   "execution_count": 15,
   "id": "13feff47",
   "metadata": {},
   "outputs": [],
   "source": [
    "mean_clicked = train.clicked.mean()"
   ]
  },
  {
   "cell_type": "code",
   "execution_count": 16,
   "id": "f6508004",
   "metadata": {},
   "outputs": [
    {
     "data": {
      "text/plain": [
       "0.19364537296143453"
      ]
     },
     "execution_count": 16,
     "metadata": {},
     "output_type": "execute_result"
    }
   ],
   "source": [
    "mean_clicked"
   ]
  },
  {
   "cell_type": "markdown",
   "id": "c8ee448e",
   "metadata": {},
   "source": [
    "And we calculate the `likelihood` of an ad being clicked (per each `ad_id`)."
   ]
  },
  {
   "cell_type": "code",
   "execution_count": 17,
   "id": "1da78f5b",
   "metadata": {},
   "outputs": [],
   "source": [
    "ad_likelihood['likelihood'] = (ad_likelihood['sum'] + 10 * mean_clicked) / (ad_likelihood['count'] + 10)"
   ]
  },
  {
   "cell_type": "markdown",
   "id": "4d74facd",
   "metadata": {},
   "source": [
    "I am not sure why the `+ 10 * mean_clicked` in the numerator and `+ 10` in the denominator.\n",
    "\n",
    "It is probably an attempt at doing something reasonable for `ad_is` with very small count of being served.\n",
    "\n",
    "Now that we have calculated the `ad_likelihood`, we need to merge it on top of our data."
   ]
  },
  {
   "cell_type": "code",
   "execution_count": 18,
   "id": "7598de59",
   "metadata": {},
   "outputs": [],
   "source": [
    "joined = ['display_id', 'ad_id'] >> nvt.ops.JoinExternal(ad_likelihood, 'ad_id')\n",
    "workflow = nvt.Workflow(joined)"
   ]
  },
  {
   "cell_type": "code",
   "execution_count": 19,
   "id": "4097898c",
   "metadata": {},
   "outputs": [
    {
     "name": "stdout",
     "output_type": "stream",
     "text": [
      "CPU times: user 120 ms, sys: 88.6 ms, total: 209 ms\n",
      "Wall time: 209 ms\n"
     ]
    }
   ],
   "source": [
    "%%time\n",
    "\n",
    "test_nvt_dataset = nvt.Dataset(test)\n",
    "joined_gdf = workflow.fit_transform(test_nvt_dataset).to_ddf().compute()"
   ]
  },
  {
   "cell_type": "markdown",
   "id": "65a2c06f",
   "metadata": {},
   "source": [
    "That was fast!\n",
    "\n",
    "We do have some `nan` values for the mean, so let's fill those in (those are `ad_ids` that didn't appear in the train set). "
   ]
  },
  {
   "cell_type": "code",
   "execution_count": 20,
   "id": "95804a43",
   "metadata": {},
   "outputs": [
    {
     "data": {
      "text/plain": [
       "1108464"
      ]
     },
     "execution_count": 20,
     "metadata": {},
     "output_type": "execute_result"
    }
   ],
   "source": [
    "joined_gdf['mean'].isna().sum()"
   ]
  },
  {
   "cell_type": "code",
   "execution_count": 21,
   "id": "d5ed4223",
   "metadata": {},
   "outputs": [],
   "source": [
    "joined_gdf['mean'].fillna(mean_clicked, inplace=True)"
   ]
  },
  {
   "cell_type": "markdown",
   "id": "08a7ba87",
   "metadata": {},
   "source": [
    "And now for the grande finale!\n",
    "\n",
    "Let's output our predictions in a format that the competition will accept.\n",
    "\n",
    "The logic is as follows:\n",
    "* for each set of ads displayed together (ads grouped by `display_id`)\n",
    "* let's rank them by their global popularity ranking and use that as our prediction"
   ]
  },
  {
   "cell_type": "code",
   "execution_count": 22,
   "id": "13492a4c",
   "metadata": {},
   "outputs": [],
   "source": [
    "joined_gdf = joined_gdf.sort_values(['display_id','likelihood'], ascending=False)"
   ]
  },
  {
   "cell_type": "code",
   "execution_count": 23,
   "id": "0b356fea",
   "metadata": {},
   "outputs": [
    {
     "name": "stdout",
     "output_type": "stream",
     "text": [
      "CPU times: user 55.6 s, sys: 8.28 s, total: 1min 3s\n",
      "Wall time: 1min 3s\n"
     ]
    }
   ],
   "source": [
    "%%time\n",
    "\n",
    "submission = joined_gdf.to_pandas().groupby('display_id')['ad_id'].apply(lambda x:' '.join(map(str,x))).reset_index()"
   ]
  },
  {
   "cell_type": "code",
   "execution_count": 24,
   "id": "a05a6a55",
   "metadata": {},
   "outputs": [
    {
     "data": {
      "text/html": [
       "<div>\n",
       "<style scoped>\n",
       "    .dataframe tbody tr th:only-of-type {\n",
       "        vertical-align: middle;\n",
       "    }\n",
       "\n",
       "    .dataframe tbody tr th {\n",
       "        vertical-align: top;\n",
       "    }\n",
       "\n",
       "    .dataframe thead th {\n",
       "        text-align: right;\n",
       "    }\n",
       "</style>\n",
       "<table border=\"1\" class=\"dataframe\">\n",
       "  <thead>\n",
       "    <tr style=\"text-align: right;\">\n",
       "      <th></th>\n",
       "      <th>display_id</th>\n",
       "      <th>ad_id</th>\n",
       "    </tr>\n",
       "  </thead>\n",
       "  <tbody>\n",
       "    <tr>\n",
       "      <th>0</th>\n",
       "      <td>16874594</td>\n",
       "      <td>170392 172888 162754 150083 66758 180797</td>\n",
       "    </tr>\n",
       "    <tr>\n",
       "      <th>1</th>\n",
       "      <td>16874595</td>\n",
       "      <td>8846 143982 30609</td>\n",
       "    </tr>\n",
       "    <tr>\n",
       "      <th>2</th>\n",
       "      <td>16874596</td>\n",
       "      <td>289915 11430 289122 132820 57197 153260 173005...</td>\n",
       "    </tr>\n",
       "    <tr>\n",
       "      <th>3</th>\n",
       "      <td>16874597</td>\n",
       "      <td>305790 285834 143981 182039 155945 180965 3088...</td>\n",
       "    </tr>\n",
       "    <tr>\n",
       "      <th>4</th>\n",
       "      <td>16874598</td>\n",
       "      <td>145937 335632 67292 250082</td>\n",
       "    </tr>\n",
       "  </tbody>\n",
       "</table>\n",
       "</div>"
      ],
      "text/plain": [
       "   display_id                                              ad_id\n",
       "0    16874594           170392 172888 162754 150083 66758 180797\n",
       "1    16874595                                  8846 143982 30609\n",
       "2    16874596  289915 11430 289122 132820 57197 153260 173005...\n",
       "3    16874597  305790 285834 143981 182039 155945 180965 3088...\n",
       "4    16874598                         145937 335632 67292 250082"
      ]
     },
     "execution_count": 24,
     "metadata": {},
     "output_type": "execute_result"
    }
   ],
   "source": [
    "submission.head()"
   ]
  },
  {
   "cell_type": "code",
   "execution_count": 25,
   "id": "d5029187",
   "metadata": {},
   "outputs": [],
   "source": [
    "submission.to_csv('data/submission.csv', index=False)"
   ]
  },
  {
   "cell_type": "markdown",
   "id": "26da116c",
   "metadata": {},
   "source": [
    "Now let's make a submission.\n",
    "\n",
    "Let's donwload the file and submit it via the [web GUI](https://www.kaggle.com/competitions/outbrain-click-prediction/leaderboard) (this competition has ended but you can still submit to the leaderboard to see how you are doing!)"
   ]
  },
  {
   "cell_type": "code",
   "execution_count": 26,
   "id": "ee876a74",
   "metadata": {},
   "outputs": [],
   "source": [
    "from IPython.lib.display import FileLink"
   ]
  },
  {
   "cell_type": "code",
   "execution_count": 27,
   "id": "5683c19e",
   "metadata": {},
   "outputs": [
    {
     "data": {
      "text/html": [
       "<a href='data/submission.csv' target='_blank'>data/submission.csv</a><br>"
      ],
      "text/plain": [
       "/workspace/data/submission.csv"
      ]
     },
     "execution_count": 27,
     "metadata": {},
     "output_type": "execute_result"
    }
   ],
   "source": [
    "FileLink('data/submission.csv')"
   ]
  },
  {
   "cell_type": "markdown",
   "id": "8defccbd",
   "metadata": {},
   "source": [
    "And the submission scores `0.63573`!\n",
    "\n",
    "How good of a result is that? The winning submission scored `0.70144`, our result is around 10% worse!\n",
    "\n",
    "Using global populraity goes a long way in solving recommender system problems. It often leads to good results that are hard to improve upon.\n",
    "\n",
    "But while not easy, it makes a lot of sense to improve upon the results. In a business context, just tiny improvements on the performance can translate to significant improvements to the bottom line!"
   ]
  }
 ],
 "metadata": {
  "kernelspec": {
   "display_name": "Python 3 (ipykernel)",
   "language": "python",
   "name": "python3"
  },
  "language_info": {
   "codemirror_mode": {
    "name": "ipython",
    "version": 3
   },
   "file_extension": ".py",
   "mimetype": "text/x-python",
   "name": "python",
   "nbconvert_exporter": "python",
   "pygments_lexer": "ipython3",
   "version": "3.8.12"
  }
 },
 "nbformat": 4,
 "nbformat_minor": 5
}
