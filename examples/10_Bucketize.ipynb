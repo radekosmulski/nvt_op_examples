{
 "cells": [
  {
   "cell_type": "markdown",
   "id": "f760d4dc",
   "metadata": {},
   "source": [
    "# Bucketize"
   ]
  },
  {
   "cell_type": "code",
   "execution_count": 1,
   "id": "16ddd12f",
   "metadata": {},
   "outputs": [],
   "source": [
    "import cudf\n",
    "import nvtabular as nvt\n",
    "import numpy as np"
   ]
  },
  {
   "cell_type": "code",
   "execution_count": 2,
   "id": "ec939936",
   "metadata": {},
   "outputs": [
    {
     "data": {
      "text/html": [
       "<div>\n",
       "<style scoped>\n",
       "    .dataframe tbody tr th:only-of-type {\n",
       "        vertical-align: middle;\n",
       "    }\n",
       "\n",
       "    .dataframe tbody tr th {\n",
       "        vertical-align: top;\n",
       "    }\n",
       "\n",
       "    .dataframe thead th {\n",
       "        text-align: right;\n",
       "    }\n",
       "</style>\n",
       "<table border=\"1\" class=\"dataframe\">\n",
       "  <thead>\n",
       "    <tr style=\"text-align: right;\">\n",
       "      <th></th>\n",
       "      <th>student_id</th>\n",
       "      <th>age</th>\n",
       "    </tr>\n",
       "  </thead>\n",
       "  <tbody>\n",
       "    <tr>\n",
       "      <th>0</th>\n",
       "      <td>0</td>\n",
       "      <td>17</td>\n",
       "    </tr>\n",
       "    <tr>\n",
       "      <th>1</th>\n",
       "      <td>1</td>\n",
       "      <td>5</td>\n",
       "    </tr>\n",
       "    <tr>\n",
       "      <th>2</th>\n",
       "      <td>2</td>\n",
       "      <td>10</td>\n",
       "    </tr>\n",
       "    <tr>\n",
       "      <th>3</th>\n",
       "      <td>3</td>\n",
       "      <td>13</td>\n",
       "    </tr>\n",
       "    <tr>\n",
       "      <th>4</th>\n",
       "      <td>4</td>\n",
       "      <td>9</td>\n",
       "    </tr>\n",
       "  </tbody>\n",
       "</table>\n",
       "</div>"
      ],
      "text/plain": [
       "   student_id  age\n",
       "0           0   17\n",
       "1           1    5\n",
       "2           2   10\n",
       "3           3   13\n",
       "4           4    9"
      ]
     },
     "execution_count": 2,
     "metadata": {},
     "output_type": "execute_result"
    }
   ],
   "source": [
    "students = cudf.DataFrame(\n",
    "    data={'student_id': np.arange(1_000),\n",
    "          'age': np.random.randint(1, 19, 1_000)\n",
    "})\n",
    "students.head()"
   ]
  },
  {
   "cell_type": "markdown",
   "id": "8132b467",
   "metadata": {},
   "source": [
    "Let us bucketize the `age` column into :\n",
    "\n",
    "* toddler: 1-3\n",
    "* preschooler: 4-5\n",
    "* school-aged: 6-12\n",
    "* teenager: 13-18"
   ]
  },
  {
   "cell_type": "code",
   "execution_count": 3,
   "id": "683e9eb7",
   "metadata": {},
   "outputs": [
    {
     "data": {
      "text/html": [
       "<div>\n",
       "<style scoped>\n",
       "    .dataframe tbody tr th:only-of-type {\n",
       "        vertical-align: middle;\n",
       "    }\n",
       "\n",
       "    .dataframe tbody tr th {\n",
       "        vertical-align: top;\n",
       "    }\n",
       "\n",
       "    .dataframe thead th {\n",
       "        text-align: right;\n",
       "    }\n",
       "</style>\n",
       "<table border=\"1\" class=\"dataframe\">\n",
       "  <thead>\n",
       "    <tr style=\"text-align: right;\">\n",
       "      <th></th>\n",
       "      <th>age_bucketized</th>\n",
       "      <th>age</th>\n",
       "    </tr>\n",
       "  </thead>\n",
       "  <tbody>\n",
       "    <tr>\n",
       "      <th>0</th>\n",
       "      <td>3</td>\n",
       "      <td>17</td>\n",
       "    </tr>\n",
       "    <tr>\n",
       "      <th>1</th>\n",
       "      <td>1</td>\n",
       "      <td>5</td>\n",
       "    </tr>\n",
       "    <tr>\n",
       "      <th>2</th>\n",
       "      <td>2</td>\n",
       "      <td>10</td>\n",
       "    </tr>\n",
       "    <tr>\n",
       "      <th>3</th>\n",
       "      <td>3</td>\n",
       "      <td>13</td>\n",
       "    </tr>\n",
       "    <tr>\n",
       "      <th>4</th>\n",
       "      <td>2</td>\n",
       "      <td>9</td>\n",
       "    </tr>\n",
       "  </tbody>\n",
       "</table>\n",
       "</div>"
      ],
      "text/plain": [
       "   age_bucketized  age\n",
       "0               3   17\n",
       "1               1    5\n",
       "2               2   10\n",
       "3               3   13\n",
       "4               2    9"
      ]
     },
     "execution_count": 3,
     "metadata": {},
     "output_type": "execute_result"
    }
   ],
   "source": [
    "out = ['age'] >> nvt.ops.Bucketize(boundaries={'age': [4, 6, 13]}) >> nvt.ops.Rename(name='age_bucketized')\n",
    "\n",
    "wf = nvt.Workflow(['age'] + out)\n",
    "ds = nvt.Dataset(students)\n",
    "\n",
    "ds_out = wf.fit_transform(ds)\n",
    "ds_out.compute().head()"
   ]
  },
  {
   "cell_type": "code",
   "execution_count": 4,
   "id": "93981352",
   "metadata": {},
   "outputs": [
    {
     "data": {
      "text/plain": [
       "age_bucketized\n",
       "0                   [1, 2, 3]\n",
       "1                      [4, 5]\n",
       "2    [6, 7, 8, 9, 10, 11, 12]\n",
       "3    [13, 14, 15, 16, 17, 18]\n",
       "Name: age, dtype: list"
      ]
     },
     "execution_count": 4,
     "metadata": {},
     "output_type": "execute_result"
    }
   ],
   "source": [
    "ds_out.compute().groupby('age_bucketized')['age'].unique()"
   ]
  },
  {
   "cell_type": "code",
   "execution_count": null,
   "id": "110f4f1c",
   "metadata": {},
   "outputs": [],
   "source": []
  }
 ],
 "metadata": {
  "kernelspec": {
   "display_name": "Python 3 (ipykernel)",
   "language": "python",
   "name": "python3"
  },
  "language_info": {
   "codemirror_mode": {
    "name": "ipython",
    "version": 3
   },
   "file_extension": ".py",
   "mimetype": "text/x-python",
   "name": "python",
   "nbconvert_exporter": "python",
   "pygments_lexer": "ipython3",
   "version": "3.8.13"
  }
 },
 "nbformat": 4,
 "nbformat_minor": 5
}
