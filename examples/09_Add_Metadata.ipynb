{
 "cells": [
  {
   "cell_type": "markdown",
   "id": "38e5e557",
   "metadata": {},
   "source": [
    "# AddMetadata"
   ]
  },
  {
   "cell_type": "code",
   "execution_count": 1,
   "id": "e78dd76d",
   "metadata": {},
   "outputs": [],
   "source": [
    "import numpy as np\n",
    "import cudf\n",
    "import nvtabular as nvt\n",
    "from merlin.schema.tags import Tags"
   ]
  },
  {
   "cell_type": "code",
   "execution_count": 2,
   "id": "170fa3e4",
   "metadata": {},
   "outputs": [
    {
     "data": {
      "text/html": [
       "<div>\n",
       "<style scoped>\n",
       "    .dataframe tbody tr th:only-of-type {\n",
       "        vertical-align: middle;\n",
       "    }\n",
       "\n",
       "    .dataframe tbody tr th {\n",
       "        vertical-align: top;\n",
       "    }\n",
       "\n",
       "    .dataframe thead th {\n",
       "        text-align: right;\n",
       "    }\n",
       "</style>\n",
       "<table border=\"1\" class=\"dataframe\">\n",
       "  <thead>\n",
       "    <tr style=\"text-align: right;\">\n",
       "      <th></th>\n",
       "      <th>user_id</th>\n",
       "      <th>price</th>\n",
       "      <th>color</th>\n",
       "      <th>model</th>\n",
       "    </tr>\n",
       "  </thead>\n",
       "  <tbody>\n",
       "    <tr>\n",
       "      <th>0</th>\n",
       "      <td>0</td>\n",
       "      <td>125.04</td>\n",
       "      <td>blue</td>\n",
       "      <td>deluxe</td>\n",
       "    </tr>\n",
       "    <tr>\n",
       "      <th>1</th>\n",
       "      <td>1</td>\n",
       "      <td>23.07</td>\n",
       "      <td>blue</td>\n",
       "      <td>compact</td>\n",
       "    </tr>\n",
       "    <tr>\n",
       "      <th>2</th>\n",
       "      <td>2</td>\n",
       "      <td>101.20</td>\n",
       "      <td>red</td>\n",
       "      <td>regular</td>\n",
       "    </tr>\n",
       "    <tr>\n",
       "      <th>3</th>\n",
       "      <td>2</td>\n",
       "      <td>2.34</td>\n",
       "      <td>yellow</td>\n",
       "      <td>regular</td>\n",
       "    </tr>\n",
       "  </tbody>\n",
       "</table>\n",
       "</div>"
      ],
      "text/plain": [
       "   user_id   price   color    model\n",
       "0        0  125.04    blue   deluxe\n",
       "1        1   23.07    blue  compact\n",
       "2        2  101.20     red  regular\n",
       "3        2    2.34  yellow  regular"
      ]
     },
     "execution_count": 2,
     "metadata": {},
     "output_type": "execute_result"
    }
   ],
   "source": [
    "purchases = cudf.DataFrame(\n",
    "    data={'user_id': [0, 1, 2, 2],\n",
    "          'price': [125.04, 23.07, 101.2, 2.34],\n",
    "          'color': ['blue', 'blue', 'red', 'yellow'],\n",
    "          'model': ['deluxe', 'compact', 'regular', 'regular']\n",
    "})\n",
    "purchases"
   ]
  },
  {
   "cell_type": "markdown",
   "id": "ad6866f4",
   "metadata": {},
   "source": [
    "There are various ways to add metadata. Let's explore them, starting with the most general one."
   ]
  },
  {
   "cell_type": "code",
   "execution_count": 3,
   "id": "a507d1e1",
   "metadata": {},
   "outputs": [
    {
     "data": {
      "text/html": [
       "<div>\n",
       "<style scoped>\n",
       "    .dataframe tbody tr th:only-of-type {\n",
       "        vertical-align: middle;\n",
       "    }\n",
       "\n",
       "    .dataframe tbody tr th {\n",
       "        vertical-align: top;\n",
       "    }\n",
       "\n",
       "    .dataframe thead th {\n",
       "        text-align: right;\n",
       "    }\n",
       "</style>\n",
       "<table border=\"1\" class=\"dataframe\">\n",
       "  <thead>\n",
       "    <tr style=\"text-align: right;\">\n",
       "      <th></th>\n",
       "      <th>name</th>\n",
       "      <th>tags</th>\n",
       "      <th>dtype</th>\n",
       "      <th>is_list</th>\n",
       "      <th>is_ragged</th>\n",
       "    </tr>\n",
       "  </thead>\n",
       "  <tbody>\n",
       "    <tr>\n",
       "      <th>0</th>\n",
       "      <td>price</td>\n",
       "      <td>(Tags.CONTINUOUS, Tags.TARGET)</td>\n",
       "      <td>float64</td>\n",
       "      <td>False</td>\n",
       "      <td>False</td>\n",
       "    </tr>\n",
       "    <tr>\n",
       "      <th>1</th>\n",
       "      <td>user_id</td>\n",
       "      <td>(Tags.USER, Tags.USER_ID)</td>\n",
       "      <td>int64</td>\n",
       "      <td>False</td>\n",
       "      <td>False</td>\n",
       "    </tr>\n",
       "    <tr>\n",
       "      <th>2</th>\n",
       "      <td>color</td>\n",
       "      <td>(Tags.CATEGORICAL, Tags.ITEM)</td>\n",
       "      <td>object</td>\n",
       "      <td>False</td>\n",
       "      <td>False</td>\n",
       "    </tr>\n",
       "    <tr>\n",
       "      <th>3</th>\n",
       "      <td>model</td>\n",
       "      <td>(Tags.CATEGORICAL, Tags.ITEM)</td>\n",
       "      <td>object</td>\n",
       "      <td>False</td>\n",
       "      <td>False</td>\n",
       "    </tr>\n",
       "  </tbody>\n",
       "</table>\n",
       "</div>"
      ],
      "text/plain": [
       "[{'name': 'price', 'tags': {<Tags.CONTINUOUS: 'continuous'>, <Tags.TARGET: 'target'>}, 'properties': {}, 'dtype': dtype('float64'), 'is_list': False, 'is_ragged': False}, {'name': 'user_id', 'tags': {<Tags.USER: 'user'>, <Tags.USER_ID: 'user_id'>}, 'properties': {}, 'dtype': dtype('int64'), 'is_list': False, 'is_ragged': False}, {'name': 'color', 'tags': {<Tags.CATEGORICAL: 'categorical'>, <Tags.ITEM: 'item'>}, 'properties': {}, 'dtype': dtype('O'), 'is_list': False, 'is_ragged': False}, {'name': 'model', 'tags': {<Tags.CATEGORICAL: 'categorical'>, <Tags.ITEM: 'item'>}, 'properties': {}, 'dtype': dtype('O'), 'is_list': False, 'is_ragged': False}]"
      ]
     },
     "execution_count": 3,
     "metadata": {},
     "output_type": "execute_result"
    }
   ],
   "source": [
    "# we can add `tags` using the `AddMetadata` op\n",
    "out = ['price'] >> nvt.ops.AddMetadata(tags=[Tags.TARGET])\n",
    "\n",
    "# there are also shorthands we can use\n",
    "out += ['price'] >> nvt.ops.AddTags(tags=[Tags.CONTINUOUS])\n",
    "out += ['user_id'] >> nvt.ops.TagAsUserID()\n",
    "out += ['color', 'model'] >> nvt.ops.TagAsItemFeatures()\n",
    "out += ['color', 'model'] >> nvt.ops.AddTags(tags=[Tags.CATEGORICAL])\n",
    "\n",
    "ds = nvt.Dataset(purchases)\n",
    "wf = nvt.Workflow(out)\n",
    "\n",
    "ds_out = wf.fit_transform(ds)\n",
    "ds_out.schema"
   ]
  },
  {
   "cell_type": "markdown",
   "id": "9ce4c8ed",
   "metadata": {},
   "source": [
    "We can now use these tags to selectively apply preprocessing steps."
   ]
  },
  {
   "cell_type": "code",
   "execution_count": 4,
   "id": "daf9dd95",
   "metadata": {},
   "outputs": [
    {
     "name": "stderr",
     "output_type": "stream",
     "text": [
      "/opt/conda/lib/python3.8/site-packages/cudf/core/dataframe.py:1292: UserWarning: The deep parameter is ignored and is only included for pandas compatibility.\n",
      "  warnings.warn(\n"
     ]
    },
    {
     "data": {
      "text/html": [
       "<div>\n",
       "<style scoped>\n",
       "    .dataframe tbody tr th:only-of-type {\n",
       "        vertical-align: middle;\n",
       "    }\n",
       "\n",
       "    .dataframe tbody tr th {\n",
       "        vertical-align: top;\n",
       "    }\n",
       "\n",
       "    .dataframe thead th {\n",
       "        text-align: right;\n",
       "    }\n",
       "</style>\n",
       "<table border=\"1\" class=\"dataframe\">\n",
       "  <thead>\n",
       "    <tr style=\"text-align: right;\">\n",
       "      <th></th>\n",
       "      <th>color</th>\n",
       "      <th>model</th>\n",
       "    </tr>\n",
       "  </thead>\n",
       "  <tbody>\n",
       "    <tr>\n",
       "      <th>0</th>\n",
       "      <td>1</td>\n",
       "      <td>3</td>\n",
       "    </tr>\n",
       "    <tr>\n",
       "      <th>1</th>\n",
       "      <td>1</td>\n",
       "      <td>2</td>\n",
       "    </tr>\n",
       "    <tr>\n",
       "      <th>2</th>\n",
       "      <td>2</td>\n",
       "      <td>1</td>\n",
       "    </tr>\n",
       "    <tr>\n",
       "      <th>3</th>\n",
       "      <td>3</td>\n",
       "      <td>1</td>\n",
       "    </tr>\n",
       "  </tbody>\n",
       "</table>\n",
       "</div>"
      ],
      "text/plain": [
       "   color  model\n",
       "0      1      3\n",
       "1      1      2\n",
       "2      2      1\n",
       "3      3      1"
      ]
     },
     "execution_count": 4,
     "metadata": {},
     "output_type": "execute_result"
    }
   ],
   "source": [
    "cats = nvt.ColumnSelector(tags=[Tags.CATEGORICAL]) >> nvt.ops.Categorify()\n",
    "\n",
    "wf = nvt.Workflow(cats)\n",
    "\n",
    "ds_final = wf.fit_transform(ds_out)\n",
    "ds_final.compute()"
   ]
  },
  {
   "cell_type": "markdown",
   "id": "26f69502",
   "metadata": {},
   "source": [
    "By semantically tagging your data you make your code easier to read and more concise.\n",
    "\n",
    "Additionally, this information will be picked up and reused by the Merlin Framework in subsequent stages of working on your model.\n",
    "\n",
    "This translates to faster iteration speed and smaller chance of introducing bugs.\n",
    "\n",
    "See [here](https://github.com/NVIDIA-Merlin/models/blob/main/examples/07-Train-an-xgboost-model-using-the-Merlin-Models-API.ipynb) for an example of how the information you provide lends itself to constructing and training a model, and [here](https://github.com/NVIDIA-Merlin/systems/blob/main/examples/Serving-Ranking-Models-With-Merlin-Systems.ipynb) for an example of how tagging can streamline model serving."
   ]
  }
 ],
 "metadata": {
  "kernelspec": {
   "display_name": "Python 3 (ipykernel)",
   "language": "python",
   "name": "python3"
  },
  "language_info": {
   "codemirror_mode": {
    "name": "ipython",
    "version": 3
   },
   "file_extension": ".py",
   "mimetype": "text/x-python",
   "name": "python",
   "nbconvert_exporter": "python",
   "pygments_lexer": "ipython3",
   "version": "3.8.13"
  }
 },
 "nbformat": 4,
 "nbformat_minor": 5
}
