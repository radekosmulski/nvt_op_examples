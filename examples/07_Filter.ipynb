{
 "cells": [
  {
   "cell_type": "markdown",
   "id": "ad569d5a",
   "metadata": {},
   "source": [
    "# Filter"
   ]
  },
  {
   "cell_type": "code",
   "execution_count": 1,
   "id": "ff300f1d",
   "metadata": {},
   "outputs": [],
   "source": [
    "import numpy as np\n",
    "import cudf\n",
    "import nvtabular as nvt"
   ]
  },
  {
   "cell_type": "code",
   "execution_count": 2,
   "id": "4d61d126",
   "metadata": {},
   "outputs": [
    {
     "data": {
      "text/html": [
       "<div>\n",
       "<style scoped>\n",
       "    .dataframe tbody tr th:only-of-type {\n",
       "        vertical-align: middle;\n",
       "    }\n",
       "\n",
       "    .dataframe tbody tr th {\n",
       "        vertical-align: top;\n",
       "    }\n",
       "\n",
       "    .dataframe thead th {\n",
       "        text-align: right;\n",
       "    }\n",
       "</style>\n",
       "<table border=\"1\" class=\"dataframe\">\n",
       "  <thead>\n",
       "    <tr style=\"text-align: right;\">\n",
       "      <th></th>\n",
       "      <th>type</th>\n",
       "      <th>model</th>\n",
       "    </tr>\n",
       "  </thead>\n",
       "  <tbody>\n",
       "    <tr>\n",
       "      <th>0</th>\n",
       "      <td>rotary-wing</td>\n",
       "      <td>Bell 206 JetRanger</td>\n",
       "    </tr>\n",
       "    <tr>\n",
       "      <th>1</th>\n",
       "      <td>rotary-wing</td>\n",
       "      <td>Bell 47</td>\n",
       "    </tr>\n",
       "    <tr>\n",
       "      <th>2</th>\n",
       "      <td>fixed-wing</td>\n",
       "      <td>Embraer Phenom 100</td>\n",
       "    </tr>\n",
       "  </tbody>\n",
       "</table>\n",
       "</div>"
      ],
      "text/plain": [
       "          type               model\n",
       "0  rotary-wing  Bell 206 JetRanger\n",
       "1  rotary-wing             Bell 47\n",
       "2   fixed-wing  Embraer Phenom 100"
      ]
     },
     "execution_count": 2,
     "metadata": {},
     "output_type": "execute_result"
    }
   ],
   "source": [
    "aircrafts = cudf.DataFrame(\n",
    "    data={'type': ['rotary-wing', 'rotary-wing', 'fixed-wing'],\n",
    "          'model': ['Bell 206 JetRanger', 'Bell 47', 'Embraer Phenom 100']\n",
    "})\n",
    "aircrafts"
   ]
  },
  {
   "cell_type": "code",
   "execution_count": 3,
   "id": "d6ea3c7b",
   "metadata": {},
   "outputs": [
    {
     "data": {
      "text/html": [
       "<div>\n",
       "<style scoped>\n",
       "    .dataframe tbody tr th:only-of-type {\n",
       "        vertical-align: middle;\n",
       "    }\n",
       "\n",
       "    .dataframe tbody tr th {\n",
       "        vertical-align: top;\n",
       "    }\n",
       "\n",
       "    .dataframe thead th {\n",
       "        text-align: right;\n",
       "    }\n",
       "</style>\n",
       "<table border=\"1\" class=\"dataframe\">\n",
       "  <thead>\n",
       "    <tr style=\"text-align: right;\">\n",
       "      <th></th>\n",
       "      <th>model</th>\n",
       "      <th>type</th>\n",
       "    </tr>\n",
       "  </thead>\n",
       "  <tbody>\n",
       "    <tr>\n",
       "      <th>0</th>\n",
       "      <td>Embraer Phenom 100</td>\n",
       "      <td>fixed-wing</td>\n",
       "    </tr>\n",
       "  </tbody>\n",
       "</table>\n",
       "</div>"
      ],
      "text/plain": [
       "                model        type\n",
       "0  Embraer Phenom 100  fixed-wing"
      ]
     },
     "execution_count": 3,
     "metadata": {},
     "output_type": "execute_result"
    }
   ],
   "source": [
    "need_for_speed = ['model', 'type'] >> nvt.ops.Filter(lambda row: row['type'] != 'rotary-wing') \n",
    "\n",
    "ds = nvt.Dataset(aircrafts)\n",
    "wf = nvt.Workflow(need_for_speed)\n",
    "\n",
    "wf.fit_transform(ds).compute()"
   ]
  },
  {
   "cell_type": "code",
   "execution_count": null,
   "id": "63f7fe52",
   "metadata": {},
   "outputs": [],
   "source": []
  }
 ],
 "metadata": {
  "kernelspec": {
   "display_name": "Python 3 (ipykernel)",
   "language": "python",
   "name": "python3"
  },
  "language_info": {
   "codemirror_mode": {
    "name": "ipython",
    "version": 3
   },
   "file_extension": ".py",
   "mimetype": "text/x-python",
   "name": "python",
   "nbconvert_exporter": "python",
   "pygments_lexer": "ipython3",
   "version": "3.8.13"
  }
 },
 "nbformat": 4,
 "nbformat_minor": 5
}
