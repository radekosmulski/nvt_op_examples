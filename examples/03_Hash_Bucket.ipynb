{
 "cells": [
  {
   "cell_type": "markdown",
   "id": "6170aa37",
   "metadata": {},
   "source": [
    "# Hash Bucket\n",
    "\n",
    "This operator is a way of narrowing down the number of categories.\n",
    "\n",
    "This has several use cases. First of all, it minimizes the memory footprint of a RecSys model. But, surprisingly, it can also help on the predictive power side.\n",
    "\n",
    "Having low frequency categories can lead to overfitting. This is exacerbated when the diemnsionality of the embeddings that we use is high.\n",
    "\n",
    "One solution is to use the `Categorify` operator with frequency capping. The `HashBucket` operator is another popular choice offering different performance trade offs.\n",
    "\n",
    "Let's observe the `HashBucket` operator in action."
   ]
  },
  {
   "cell_type": "code",
   "execution_count": 1,
   "id": "55bd2247",
   "metadata": {},
   "outputs": [],
   "source": [
    "import numpy as np\n",
    "import cudf\n",
    "import nvtabular as nvt"
   ]
  },
  {
   "cell_type": "code",
   "execution_count": 2,
   "id": "c884464d",
   "metadata": {},
   "outputs": [],
   "source": [
    "tenk_categories = np.random.randint(0, 10_000, 50_000)"
   ]
  },
  {
   "cell_type": "code",
   "execution_count": 3,
   "id": "edf630d3",
   "metadata": {},
   "outputs": [
    {
     "data": {
      "text/html": [
       "<div>\n",
       "<style scoped>\n",
       "    .dataframe tbody tr th:only-of-type {\n",
       "        vertical-align: middle;\n",
       "    }\n",
       "\n",
       "    .dataframe tbody tr th {\n",
       "        vertical-align: top;\n",
       "    }\n",
       "\n",
       "    .dataframe thead th {\n",
       "        text-align: right;\n",
       "    }\n",
       "</style>\n",
       "<table border=\"1\" class=\"dataframe\">\n",
       "  <thead>\n",
       "    <tr style=\"text-align: right;\">\n",
       "      <th></th>\n",
       "      <th>customer_id</th>\n",
       "    </tr>\n",
       "  </thead>\n",
       "  <tbody>\n",
       "    <tr>\n",
       "      <th>0</th>\n",
       "      <td>4283</td>\n",
       "    </tr>\n",
       "    <tr>\n",
       "      <th>1</th>\n",
       "      <td>6766</td>\n",
       "    </tr>\n",
       "    <tr>\n",
       "      <th>2</th>\n",
       "      <td>5393</td>\n",
       "    </tr>\n",
       "    <tr>\n",
       "      <th>3</th>\n",
       "      <td>2413</td>\n",
       "    </tr>\n",
       "    <tr>\n",
       "      <th>4</th>\n",
       "      <td>3322</td>\n",
       "    </tr>\n",
       "  </tbody>\n",
       "</table>\n",
       "</div>"
      ],
      "text/plain": [
       "   customer_id\n",
       "0         4283\n",
       "1         6766\n",
       "2         5393\n",
       "3         2413\n",
       "4         3322"
      ]
     },
     "execution_count": 3,
     "metadata": {},
     "output_type": "execute_result"
    }
   ],
   "source": [
    "gdf = cudf.DataFrame(data={'customer_id' :tenk_categories})\n",
    "gdf.head()"
   ]
  },
  {
   "cell_type": "markdown",
   "id": "e8efb500",
   "metadata": {},
   "source": [
    "We have 10_000 customers across just 50_000 data points."
   ]
  },
  {
   "cell_type": "code",
   "execution_count": 4,
   "id": "8efb1bea",
   "metadata": {},
   "outputs": [
    {
     "data": {
      "text/plain": [
       "5286    16\n",
       "613     15\n",
       "3508    14\n",
       "6800    14\n",
       "206     14\n",
       "Name: customer_id, dtype: int32"
      ]
     },
     "execution_count": 4,
     "metadata": {},
     "output_type": "execute_result"
    }
   ],
   "source": [
    "gdf.customer_id.value_counts().head()"
   ]
  },
  {
   "cell_type": "code",
   "execution_count": 5,
   "id": "81a597fc",
   "metadata": {},
   "outputs": [
    {
     "data": {
      "text/plain": [
       "7345"
      ]
     },
     "execution_count": 5,
     "metadata": {},
     "output_type": "execute_result"
    }
   ],
   "source": [
    "(gdf.customer_id.value_counts() > 3).sum()"
   ]
  },
  {
   "cell_type": "markdown",
   "id": "237a2f58",
   "metadata": {},
   "source": [
    "70+% of our customers have just one or two data points!\n",
    "\n",
    "Let us address this issue using the `HashBucket` operator."
   ]
  },
  {
   "cell_type": "code",
   "execution_count": 6,
   "id": "d698ec7f",
   "metadata": {},
   "outputs": [],
   "source": [
    "nvt_dataset = nvt.Dataset(gdf)\n",
    "\n",
    "hashed = ['customer_id'] >> nvt.ops.HashBucket(num_buckets=100)\n",
    "\n",
    "workflow = nvt.Workflow(hashed)"
   ]
  },
  {
   "cell_type": "code",
   "execution_count": 7,
   "id": "a77cf26a",
   "metadata": {},
   "outputs": [
    {
     "name": "stdout",
     "output_type": "stream",
     "text": [
      "CPU times: user 20.5 ms, sys: 363 µs, total: 20.9 ms\n",
      "Wall time: 19.8 ms\n"
     ]
    }
   ],
   "source": [
    "%%time\n",
    "\n",
    "gdf = workflow.fit_transform(nvt_dataset).to_ddf().compute()"
   ]
  },
  {
   "cell_type": "code",
   "execution_count": 8,
   "id": "c858a36a",
   "metadata": {},
   "outputs": [
    {
     "data": {
      "text/html": [
       "<div>\n",
       "<style scoped>\n",
       "    .dataframe tbody tr th:only-of-type {\n",
       "        vertical-align: middle;\n",
       "    }\n",
       "\n",
       "    .dataframe tbody tr th {\n",
       "        vertical-align: top;\n",
       "    }\n",
       "\n",
       "    .dataframe thead th {\n",
       "        text-align: right;\n",
       "    }\n",
       "</style>\n",
       "<table border=\"1\" class=\"dataframe\">\n",
       "  <thead>\n",
       "    <tr style=\"text-align: right;\">\n",
       "      <th></th>\n",
       "      <th>customer_id</th>\n",
       "    </tr>\n",
       "  </thead>\n",
       "  <tbody>\n",
       "    <tr>\n",
       "      <th>0</th>\n",
       "      <td>84</td>\n",
       "    </tr>\n",
       "    <tr>\n",
       "      <th>1</th>\n",
       "      <td>4</td>\n",
       "    </tr>\n",
       "    <tr>\n",
       "      <th>2</th>\n",
       "      <td>63</td>\n",
       "    </tr>\n",
       "    <tr>\n",
       "      <th>3</th>\n",
       "      <td>41</td>\n",
       "    </tr>\n",
       "    <tr>\n",
       "      <th>4</th>\n",
       "      <td>41</td>\n",
       "    </tr>\n",
       "  </tbody>\n",
       "</table>\n",
       "</div>"
      ],
      "text/plain": [
       "   customer_id\n",
       "0           84\n",
       "1            4\n",
       "2           63\n",
       "3           41\n",
       "4           41"
      ]
     },
     "execution_count": 8,
     "metadata": {},
     "output_type": "execute_result"
    }
   ],
   "source": [
    "gdf.head()"
   ]
  },
  {
   "cell_type": "code",
   "execution_count": 9,
   "id": "2aee941b",
   "metadata": {},
   "outputs": [
    {
     "data": {
      "text/plain": [
       "71    646\n",
       "44    633\n",
       "34    627\n",
       "98    606\n",
       "73    601\n",
       "     ... \n",
       "55    410\n",
       "68    407\n",
       "40    396\n",
       "24    363\n",
       "38    359\n",
       "Name: customer_id, Length: 100, dtype: int32"
      ]
     },
     "execution_count": 9,
     "metadata": {},
     "output_type": "execute_result"
    }
   ],
   "source": [
    "gdf.customer_id.value_counts()"
   ]
  },
  {
   "cell_type": "markdown",
   "id": "12124c09",
   "metadata": {},
   "source": [
    "There is also another way of decreasing the number of categories, one that combines frequency capping with hashing.\n",
    "\n",
    "Categories of sufficient count will not be modified, but the long tail of low frequency categories will get hashed. Instead of obtaining a single bucket for all the low frequency categories, we get several buckets."
   ]
  },
  {
   "cell_type": "code",
   "execution_count": 10,
   "id": "145a962a",
   "metadata": {},
   "outputs": [
    {
     "data": {
      "text/plain": [
       "5286    16\n",
       "613     15\n",
       "3508    14\n",
       "6800    14\n",
       "206     14\n",
       "Name: customer_id, dtype: int32"
      ]
     },
     "execution_count": 10,
     "metadata": {},
     "output_type": "execute_result"
    }
   ],
   "source": [
    "gdf = cudf.DataFrame(data={'customer_id': tenk_categories})\n",
    "gdf.customer_id.value_counts().head()"
   ]
  },
  {
   "cell_type": "code",
   "execution_count": 11,
   "id": "2359beab",
   "metadata": {},
   "outputs": [
    {
     "name": "stderr",
     "output_type": "stream",
     "text": [
      "/nvtabular/nvtabular/ops/categorify.py:297: UserWarning: Performing a hash-based transformation. Do not expect Categorify to be consistent on GPU and CPU with this num_buckets setting!\n",
      "  warnings.warn(\n"
     ]
    }
   ],
   "source": [
    "nvt_dataset = nvt.Dataset(gdf)\n",
    "\n",
    "frequency_hashed = ['customer_id'] >> nvt.ops.Categorify(freq_threshold=14, num_buckets=100)\n",
    "\n",
    "workflow = nvt.Workflow(frequency_hashed)"
   ]
  },
  {
   "cell_type": "code",
   "execution_count": 12,
   "id": "be8de6a3",
   "metadata": {},
   "outputs": [
    {
     "name": "stderr",
     "output_type": "stream",
     "text": [
      "/opt/conda/lib/python3.8/site-packages/cudf/core/dataframe.py:1292: UserWarning: The deep parameter is ignored and is only included for pandas compatibility.\n",
      "  warnings.warn(\n"
     ]
    },
    {
     "name": "stdout",
     "output_type": "stream",
     "text": [
      "CPU times: user 181 ms, sys: 30.6 ms, total: 212 ms\n",
      "Wall time: 218 ms\n"
     ]
    }
   ],
   "source": [
    "%%time\n",
    "\n",
    "gdf = workflow.fit_transform(nvt_dataset).to_ddf().compute()"
   ]
  },
  {
   "cell_type": "code",
   "execution_count": 13,
   "id": "6680ead7",
   "metadata": {},
   "outputs": [
    {
     "data": {
      "text/plain": [
       "112"
      ]
     },
     "execution_count": 13,
     "metadata": {},
     "output_type": "execute_result"
    }
   ],
   "source": [
    "gdf.customer_id.nunique()"
   ]
  },
  {
   "cell_type": "code",
   "execution_count": 14,
   "id": "b3a459d7",
   "metadata": {},
   "outputs": [
    {
     "data": {
      "text/plain": [
       "84     646\n",
       "57     633\n",
       "47     611\n",
       "111    606\n",
       "86     601\n",
       "      ... \n",
       "11      14\n",
       "10      14\n",
       "12      14\n",
       "5       14\n",
       "4       14\n",
       "Name: customer_id, Length: 112, dtype: int32"
      ]
     },
     "execution_count": 14,
     "metadata": {},
     "output_type": "execute_result"
    }
   ],
   "source": [
    "gdf.customer_id.value_counts()"
   ]
  },
  {
   "cell_type": "markdown",
   "id": "11b9e8f7",
   "metadata": {},
   "source": [
    "As we can see, the lower freuqency categories got assigned to one of 100 buckets. Categories above the frequency threshold have remained intact."
   ]
  }
 ],
 "metadata": {
  "kernelspec": {
   "display_name": "Python 3 (ipykernel)",
   "language": "python",
   "name": "python3"
  },
  "language_info": {
   "codemirror_mode": {
    "name": "ipython",
    "version": 3
   },
   "file_extension": ".py",
   "mimetype": "text/x-python",
   "name": "python",
   "nbconvert_exporter": "python",
   "pygments_lexer": "ipython3",
   "version": "3.8.12"
  }
 },
 "nbformat": 4,
 "nbformat_minor": 5
}
