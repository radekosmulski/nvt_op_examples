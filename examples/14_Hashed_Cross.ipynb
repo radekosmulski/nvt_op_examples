{
 "cells": [
  {
   "cell_type": "markdown",
   "id": "6170aa37",
   "metadata": {},
   "source": [
    "# Hashed Cross\n",
    "\n",
    "\n",
    "Hashed cross combines category hashing and the creation of feature interactions. In that, it lends itself well to preprocessing data at scale."
   ]
  },
  {
   "cell_type": "code",
   "execution_count": 1,
   "id": "55bd2247",
   "metadata": {},
   "outputs": [],
   "source": [
    "import numpy as np\n",
    "import cudf\n",
    "import nvtabular as nvt"
   ]
  },
  {
   "cell_type": "markdown",
   "id": "3f64d091",
   "metadata": {},
   "source": [
    "This might not be enormous data per se, but to test things out, I am running this example on a 4GB laptop GPU!"
   ]
  },
  {
   "cell_type": "code",
   "execution_count": 2,
   "id": "c884464d",
   "metadata": {},
   "outputs": [],
   "source": [
    "user_ids = np.random.randint(0, 10_000, 10_000_000)\n",
    "post_ids = np.random.randint(0, 10_000, 10_000_000)"
   ]
  },
  {
   "cell_type": "code",
   "execution_count": 3,
   "id": "edf630d3",
   "metadata": {},
   "outputs": [
    {
     "data": {
      "text/html": [
       "<div>\n",
       "<style scoped>\n",
       "    .dataframe tbody tr th:only-of-type {\n",
       "        vertical-align: middle;\n",
       "    }\n",
       "\n",
       "    .dataframe tbody tr th {\n",
       "        vertical-align: top;\n",
       "    }\n",
       "\n",
       "    .dataframe thead th {\n",
       "        text-align: right;\n",
       "    }\n",
       "</style>\n",
       "<table border=\"1\" class=\"dataframe\">\n",
       "  <thead>\n",
       "    <tr style=\"text-align: right;\">\n",
       "      <th></th>\n",
       "      <th>user_id</th>\n",
       "      <th>post_id</th>\n",
       "    </tr>\n",
       "  </thead>\n",
       "  <tbody>\n",
       "    <tr>\n",
       "      <th>0</th>\n",
       "      <td>6777</td>\n",
       "      <td>9446</td>\n",
       "    </tr>\n",
       "    <tr>\n",
       "      <th>1</th>\n",
       "      <td>9303</td>\n",
       "      <td>9639</td>\n",
       "    </tr>\n",
       "    <tr>\n",
       "      <th>2</th>\n",
       "      <td>2166</td>\n",
       "      <td>8513</td>\n",
       "    </tr>\n",
       "    <tr>\n",
       "      <th>3</th>\n",
       "      <td>1295</td>\n",
       "      <td>4740</td>\n",
       "    </tr>\n",
       "    <tr>\n",
       "      <th>4</th>\n",
       "      <td>5788</td>\n",
       "      <td>9356</td>\n",
       "    </tr>\n",
       "  </tbody>\n",
       "</table>\n",
       "</div>"
      ],
      "text/plain": [
       "   user_id  post_id\n",
       "0     6777     9446\n",
       "1     9303     9639\n",
       "2     2166     8513\n",
       "3     1295     4740\n",
       "4     5788     9356"
      ]
     },
     "execution_count": 3,
     "metadata": {},
     "output_type": "execute_result"
    }
   ],
   "source": [
    "gdf = cudf.DataFrame(data={'user_id': user_ids, 'post_id': post_ids})\n",
    "gdf.head()"
   ]
  },
  {
   "cell_type": "code",
   "execution_count": 4,
   "id": "8efb1bea",
   "metadata": {},
   "outputs": [
    {
     "data": {
      "text/plain": [
       "user_id    10000\n",
       "post_id    10000\n",
       "dtype: int64"
      ]
     },
     "execution_count": 4,
     "metadata": {},
     "output_type": "execute_result"
    }
   ],
   "source": [
    "gdf.nunique()"
   ]
  },
  {
   "cell_type": "code",
   "execution_count": 5,
   "id": "d698ec7f",
   "metadata": {},
   "outputs": [],
   "source": [
    "nvt_dataset = nvt.Dataset(gdf)\n",
    "\n",
    "hashed = ['user_id', 'post_id'] >> nvt.ops.HashedCross(num_buckets=100)\n",
    "\n",
    "workflow = nvt.Workflow(hashed)"
   ]
  },
  {
   "cell_type": "code",
   "execution_count": 6,
   "id": "a77cf26a",
   "metadata": {},
   "outputs": [
    {
     "name": "stdout",
     "output_type": "stream",
     "text": [
      "CPU times: user 50.5 ms, sys: 191 µs, total: 50.7 ms\n",
      "Wall time: 58 ms\n"
     ]
    }
   ],
   "source": [
    "%%time\n",
    "\n",
    "gdf = workflow.fit_transform(nvt_dataset).compute()"
   ]
  },
  {
   "cell_type": "code",
   "execution_count": 7,
   "id": "c858a36a",
   "metadata": {},
   "outputs": [
    {
     "data": {
      "text/plain": [
       "user_id_X_post_id    100\n",
       "dtype: int64"
      ]
     },
     "execution_count": 7,
     "metadata": {},
     "output_type": "execute_result"
    }
   ],
   "source": [
    "gdf.nunique()"
   ]
  },
  {
   "cell_type": "code",
   "execution_count": 8,
   "id": "49522740",
   "metadata": {},
   "outputs": [
    {
     "data": {
      "text/plain": [
       "0     101748\n",
       "52    100861\n",
       "74    100861\n",
       "38    100723\n",
       "84    100664\n",
       "       ...  \n",
       "73     99412\n",
       "45     99395\n",
       "31     99372\n",
       "43     99333\n",
       "99     99288\n",
       "Name: user_id_X_post_id, Length: 100, dtype: int32"
      ]
     },
     "execution_count": 8,
     "metadata": {},
     "output_type": "execute_result"
    }
   ],
   "source": [
    "gdf.user_id_X_post_id.value_counts()"
   ]
  },
  {
   "cell_type": "code",
   "execution_count": 9,
   "id": "6d9ae2ed",
   "metadata": {},
   "outputs": [
    {
     "name": "stdout",
     "output_type": "stream",
     "text": [
      "Tue Aug  2 06:33:29 2022       \r\n",
      "+-----------------------------------------------------------------------------+\r\n",
      "| NVIDIA-SMI 510.72       Driver Version: 512.72       CUDA Version: 11.6     |\r\n",
      "|-------------------------------+----------------------+----------------------+\r\n",
      "| GPU  Name        Persistence-M| Bus-Id        Disp.A | Volatile Uncorr. ECC |\r\n",
      "| Fan  Temp  Perf  Pwr:Usage/Cap|         Memory-Usage | GPU-Util  Compute M. |\r\n",
      "|                               |                      |               MIG M. |\r\n",
      "|===============================+======================+======================|\r\n",
      "|   0  NVIDIA GeForce ...  On   | 00000000:01:00.0 Off |                  N/A |\r\n",
      "| N/A   52C    P8     9W /  N/A |    578MiB /  4096MiB |      0%      Default |\r\n",
      "|                               |                      |                  N/A |\r\n",
      "+-------------------------------+----------------------+----------------------+\r\n",
      "                                                                               \r\n",
      "+-----------------------------------------------------------------------------+\r\n",
      "| Processes:                                                                  |\r\n",
      "|  GPU   GI   CI        PID   Type   Process name                  GPU Memory |\r\n",
      "|        ID   ID                                                   Usage      |\r\n",
      "|=============================================================================|\r\n",
      "|    0   N/A  N/A       179      C   /python3.8                      N/A      |\r\n",
      "|    0   N/A  N/A     21246      G   /Xwayland                       N/A      |\r\n",
      "+-----------------------------------------------------------------------------+\r\n"
     ]
    }
   ],
   "source": [
    "!nvidia-smi"
   ]
  }
 ],
 "metadata": {
  "kernelspec": {
   "display_name": "Python 3 (ipykernel)",
   "language": "python",
   "name": "python3"
  },
  "language_info": {
   "codemirror_mode": {
    "name": "ipython",
    "version": 3
   },
   "file_extension": ".py",
   "mimetype": "text/x-python",
   "name": "python",
   "nbconvert_exporter": "python",
   "pygments_lexer": "ipython3",
   "version": "3.8.10"
  }
 },
 "nbformat": 4,
 "nbformat_minor": 5
}
