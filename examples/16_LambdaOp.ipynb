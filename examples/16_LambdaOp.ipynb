{
 "cells": [
  {
   "cell_type": "markdown",
   "id": "ea10c6c4",
   "metadata": {},
   "source": [
    "# LambdaOp"
   ]
  },
  {
   "cell_type": "markdown",
   "id": "cc11ce67",
   "metadata": {},
   "source": [
    "The `LambdaOp` operator allows you to run custom defined preprocessing on your data.\n",
    "\n",
    "Why might you chose to use it instead of performing the operations directly on a `cudf` or `pandas` `DataFrame`?\n",
    "\n",
    "First of all, you can integrate custom preprocessing with the rest of hte `NVTabular` operator suite. Meaning, you can make use of all the operators already there and on top of that define your own set of operations.\n",
    "\n",
    "However, even if you would chose to run only custom operations on your data (highly unlikely but still) `LambdaOp` might still be your best bet.\n",
    "\n",
    "Using `NVTabular` you can easily split your data in chunks and perform operations only on subset of the data. By specifying the `npartitions` parameter you can tailor your workflow so that you make use of the available compute resources without running out of RAM."
   ]
  },
  {
   "cell_type": "code",
   "execution_count": 1,
   "id": "af5d45d9",
   "metadata": {},
   "outputs": [],
   "source": [
    "import nvtabular as nvt\n",
    "import cudf\n",
    "import numpy as np"
   ]
  },
  {
   "cell_type": "code",
   "execution_count": 2,
   "id": "3f66b742",
   "metadata": {},
   "outputs": [
    {
     "data": {
      "text/html": [
       "<div>\n",
       "<style scoped>\n",
       "    .dataframe tbody tr th:only-of-type {\n",
       "        vertical-align: middle;\n",
       "    }\n",
       "\n",
       "    .dataframe tbody tr th {\n",
       "        vertical-align: top;\n",
       "    }\n",
       "\n",
       "    .dataframe thead th {\n",
       "        text-align: right;\n",
       "    }\n",
       "</style>\n",
       "<table border=\"1\" class=\"dataframe\">\n",
       "  <thead>\n",
       "    <tr style=\"text-align: right;\">\n",
       "      <th></th>\n",
       "      <th>thermal_readings</th>\n",
       "    </tr>\n",
       "  </thead>\n",
       "  <tbody>\n",
       "    <tr>\n",
       "      <th>0</th>\n",
       "      <td>52.247439</td>\n",
       "    </tr>\n",
       "    <tr>\n",
       "      <th>1</th>\n",
       "      <td>44.012942</td>\n",
       "    </tr>\n",
       "    <tr>\n",
       "      <th>2</th>\n",
       "      <td>57.839022</td>\n",
       "    </tr>\n",
       "    <tr>\n",
       "      <th>3</th>\n",
       "      <td>35.931038</td>\n",
       "    </tr>\n",
       "    <tr>\n",
       "      <th>4</th>\n",
       "      <td>10.863175</td>\n",
       "    </tr>\n",
       "  </tbody>\n",
       "</table>\n",
       "</div>"
      ],
      "text/plain": [
       "   thermal_readings\n",
       "0         52.247439\n",
       "1         44.012942\n",
       "2         57.839022\n",
       "3         35.931038\n",
       "4         10.863175"
      ]
     },
     "execution_count": 2,
     "metadata": {},
     "output_type": "execute_result"
    }
   ],
   "source": [
    "df = cudf.DataFrame(data={'thermal_readings': np.random.rand(100_000) * 100})\n",
    "df.head()"
   ]
  },
  {
   "cell_type": "markdown",
   "id": "5167a5d9",
   "metadata": {},
   "source": [
    "Let's create a `Merlin Dataset` now, specifying for the data to be split across 10 partitions."
   ]
  },
  {
   "cell_type": "code",
   "execution_count": 3,
   "id": "c5dcd4cf",
   "metadata": {},
   "outputs": [],
   "source": [
    "ds = nvt.Dataset(df, npartitions=10)"
   ]
  },
  {
   "cell_type": "markdown",
   "id": "f4ddab20",
   "metadata": {},
   "source": [
    "We define the preprocessing we would like performed. We will define a custom operator that will add noise to the data."
   ]
  },
  {
   "cell_type": "code",
   "execution_count": 4,
   "id": "cdffd367",
   "metadata": {},
   "outputs": [],
   "source": [
    "def noisify(col):\n",
    "    print(col.shape)\n",
    "    return col + col * np.random.randn() * 0.05"
   ]
  },
  {
   "cell_type": "code",
   "execution_count": 5,
   "id": "7d41f041",
   "metadata": {},
   "outputs": [],
   "source": [
    "add_noise = ['thermal_readings'] >> nvt.ops.LambdaOp(noisify)"
   ]
  },
  {
   "cell_type": "code",
   "execution_count": 6,
   "id": "076e8f0f",
   "metadata": {},
   "outputs": [
    {
     "name": "stdout",
     "output_type": "stream",
     "text": [
      "(10000,)\n",
      "(10000,)\n",
      "(10000,)\n",
      "(10000,)\n",
      "(10000,)\n",
      "(10000,)\n",
      "(10000,)\n",
      "(10000,)\n",
      "(10000,)\n",
      "(10000,)\n"
     ]
    },
    {
     "data": {
      "text/html": [
       "<div>\n",
       "<style scoped>\n",
       "    .dataframe tbody tr th:only-of-type {\n",
       "        vertical-align: middle;\n",
       "    }\n",
       "\n",
       "    .dataframe tbody tr th {\n",
       "        vertical-align: top;\n",
       "    }\n",
       "\n",
       "    .dataframe thead th {\n",
       "        text-align: right;\n",
       "    }\n",
       "</style>\n",
       "<table border=\"1\" class=\"dataframe\">\n",
       "  <thead>\n",
       "    <tr style=\"text-align: right;\">\n",
       "      <th></th>\n",
       "      <th>thermal_readings</th>\n",
       "    </tr>\n",
       "  </thead>\n",
       "  <tbody>\n",
       "    <tr>\n",
       "      <th>0</th>\n",
       "      <td>51.199102</td>\n",
       "    </tr>\n",
       "    <tr>\n",
       "      <th>1</th>\n",
       "      <td>43.129829</td>\n",
       "    </tr>\n",
       "    <tr>\n",
       "      <th>2</th>\n",
       "      <td>56.678491</td>\n",
       "    </tr>\n",
       "    <tr>\n",
       "      <th>3</th>\n",
       "      <td>35.210088</td>\n",
       "    </tr>\n",
       "    <tr>\n",
       "      <th>4</th>\n",
       "      <td>10.645207</td>\n",
       "    </tr>\n",
       "  </tbody>\n",
       "</table>\n",
       "</div>"
      ],
      "text/plain": [
       "   thermal_readings\n",
       "0         51.199102\n",
       "1         43.129829\n",
       "2         56.678491\n",
       "3         35.210088\n",
       "4         10.645207"
      ]
     },
     "execution_count": 6,
     "metadata": {},
     "output_type": "execute_result"
    }
   ],
   "source": [
    "wf = nvt.Workflow(add_noise)\n",
    "ds = wf.transform(ds)\n",
    "ds.compute().head()"
   ]
  },
  {
   "cell_type": "markdown",
   "id": "d11b07d4",
   "metadata": {},
   "source": [
    "We have defined a custom operator and applied it to chunks of our data in order to limit our memory footprint. This functionality can be very handy when running on arbitrarily large data."
   ]
  }
 ],
 "metadata": {
  "kernelspec": {
   "display_name": "Python 3 (ipykernel)",
   "language": "python",
   "name": "python3"
  },
  "language_info": {
   "codemirror_mode": {
    "name": "ipython",
    "version": 3
   },
   "file_extension": ".py",
   "mimetype": "text/x-python",
   "name": "python",
   "nbconvert_exporter": "python",
   "pygments_lexer": "ipython3",
   "version": "3.8.10"
  }
 },
 "nbformat": 4,
 "nbformat_minor": 5
}
